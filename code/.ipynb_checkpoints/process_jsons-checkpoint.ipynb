{
 "cells": [
  {
   "cell_type": "code",
   "execution_count": 70,
   "id": "891e9a40",
   "metadata": {},
   "outputs": [],
   "source": [
    "# code to process jsons\n",
    "import pandas as pd\n",
    "import os\n"
   ]
  },
  {
   "cell_type": "code",
   "execution_count": 75,
   "id": "fdeb0b2a",
   "metadata": {},
   "outputs": [],
   "source": [
    "# empty df\n",
    "combined_df = pd.DataFrame()\n",
    "\n",
    "# get all files\n",
    "list_files = os.listdir(\"../news_us\")"
   ]
  },
  {
   "cell_type": "code",
   "execution_count": 74,
   "id": "fc730b5e",
   "metadata": {},
   "outputs": [],
   "source": [
    "# Iterate through all files in the folder\n",
    "for file_name in list_files:\n",
    "    # Check if the file is a JSON file\n",
    "    if file_name.endswith('.json'):\n",
    "        file_path = os.path.join(\"../news_us/\", file_name)\n",
    "        # Read the JSON file into a DataFrame\n",
    "        df = pd.read_json(file_path)\n",
    "        # Append the DataFrame to the combined DataFrame\n",
    "        combined_df = pd.concat([combined_df, df], ignore_index=True)"
   ]
  },
  {
   "cell_type": "code",
   "execution_count": 73,
   "id": "1e074b79",
   "metadata": {},
   "outputs": [
    {
     "data": {
      "text/plain": [
       "(148, 9)"
      ]
     },
     "execution_count": 73,
     "metadata": {},
     "output_type": "execute_result"
    }
   ],
   "source": [
    "# remove errors from the API\n",
    "combined_df = combined_df[combined_df[\"url\"]!=\"https://removed.com\"]\n",
    "\n",
    "# remove empty content\n",
    "combined_df = combined_df[combined_df[\"content\"]!=\"\"]\n",
    "\n",
    "# reset index\n",
    "combined_df.reset_index()\n",
    "\n",
    "# Remove duplicate rows\n",
    "combined_df = combined_df.drop_duplicates(subset=['url'])\n",
    "\n",
    "combined_df.shape"
   ]
  },
  {
   "cell_type": "code",
   "execution_count": 69,
   "id": "ecb24006",
   "metadata": {},
   "outputs": [],
   "source": [
    "# Save the combined DataFrame to a CSV file\n",
    "combined_df.to_csv(\"../news_us/aggregated_news_api.csv\", index=False)"
   ]
  }
 ],
 "metadata": {
  "kernelspec": {
   "display_name": "Python 3 (ipykernel)",
   "language": "python",
   "name": "python3"
  },
  "language_info": {
   "codemirror_mode": {
    "name": "ipython",
    "version": 3
   },
   "file_extension": ".py",
   "mimetype": "text/x-python",
   "name": "python",
   "nbconvert_exporter": "python",
   "pygments_lexer": "ipython3",
   "version": "3.11.4"
  }
 },
 "nbformat": 4,
 "nbformat_minor": 5
}
