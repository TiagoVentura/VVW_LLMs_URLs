{
 "cells": [
  {
   "cell_type": "code",
   "execution_count": 62,
   "id": "241cfb25",
   "metadata": {},
   "outputs": [
    {
     "data": {
      "text/plain": [
       "'/Users/tb186/Dropbox/artigos/VVW_LLMs_urls'"
      ]
     },
     "execution_count": 62,
     "metadata": {},
     "output_type": "execute_result"
    }
   ],
   "source": [
    "# scrapping google news\n",
    "import os\n",
    "os.getcwd()"
   ]
  },
  {
   "cell_type": "code",
   "execution_count": 117,
   "id": "cbe1e220",
   "metadata": {},
   "outputs": [],
   "source": [
    "# setup\n",
    "import pandas as pd\n",
    "import requests # For downloading the website\n",
    "from bs4 import BeautifulSoup # For parsing the website\n",
    "import time # To put the system to sleep\n",
    "import random # for random numbers\n",
    "import datetime\n",
    "import json\n",
    "from datetime import date \n",
    "from datetime import datetime\n",
    "import base64"
   ]
  },
  {
   "cell_type": "code",
   "execution_count": 155,
   "id": "8b394bc8",
   "metadata": {},
   "outputs": [],
   "source": [
    "# selenium options\n",
    "from selenium.webdriver.chrome.options import Options\n",
    "from selenium.webdriver.common.by import By\n",
    "from selenium.webdriver.support.ui import WebDriverWait\n",
    "from selenium.webdriver.support import expected_conditions as EC\n",
    "\n",
    "\n",
    "# Set Chrome options to run in headless mode\n",
    "chrome_options = Options()\n",
    "chrome_options.add_argument(\"--headless\")  # Run Chrome in headless mode\n",
    "chrome_options.add_argument(\"--no-sandbox\")  # Necessary if running as root\n",
    "chrome_options.add_argument(\"--disable-dev-shm-usage\")  # Overcome limited resource problems\n",
    "chrome_options.add_argument(\"--disable-gpu\")  # Applicable to Windows for GPU rendering issues\n",
    "chrome_options.add_argument(\"--window-size=1920,1080\")  # Set window size\n",
    "\n",
    "# Set user-agent to mimic a real browser\n",
    "chrome_options.add_argument(\"user-agent=Mozilla/5.0 (Windows NT 10.0; Win64; x64) AppleWebKit/537.36 (KHTML, like Gecko) Chrome/58.0.3029.110 Safari/537.3\")\n",
    "\n",
    "# define a simple function to scrape google news\n",
    "def collect_google_news(url):\n",
    "    # make get request\n",
    "    page = requests.get(url)\n",
    "    # check status\n",
    "    if page.status_code == 200:\n",
    "        pass\n",
    "    else:\n",
    "        print(\"error\") \n",
    "    # convert to soup\n",
    "    soup = BeautifulSoup(page.content, 'html.parser') \n",
    "    \n",
    "    #     \n",
    "    # collect text\n",
    "    text = [text.text for text in soup.select(\".WwrzSb\")]\n",
    "    # collect links\n",
    "    links_ = [l[\"href\"].replace(\"./read/\", \"https://news.google.com/articles/\") for l in soup.select(\".WwrzSb\")]\n",
    "    # combine\n",
    "    container = {\"collection\" : datetime.now().strftime('%Y-%m-%d %H:%M:%S'),\n",
    "              \"headlines\" : text, \n",
    "              \"links\" : links_}\n",
    "    # return \n",
    "    return container\n",
    "\n",
    "# function to get unmasked url\n",
    "\n",
    "def unmask(url):\n",
    "    \n",
    "    # Initialize the Chrome WebDriver with headless option\n",
    "    driver = webdriver.Chrome(options=chrome_options)    \n",
    "    # Open the URL\n",
    "    driver.get(url)\n",
    "\n",
    "    # Wait for the page to load by waiting for a specific element to be present\n",
    "    try:\n",
    "        # Wait for up to 10 seconds for the page to redirect and load fully\n",
    "        WebDriverWait(driver, 1).until(EC.presence_of_element_located((By.TAG_NAME, \"body\")))\n",
    "\n",
    "        # Add a forced pause of 2 seconds before retrieving the final URL\n",
    "        time.sleep(2)\n",
    "\n",
    "        # Get the final URL after the redirection\n",
    "        final_url = driver.current_url\n",
    "        return final_url\n",
    "    except Exception as e:\n",
    "        print(f\"Error: {e}\")"
   ]
  },
  {
   "cell_type": "code",
   "execution_count": 142,
   "id": "fc9ef8e5",
   "metadata": {},
   "outputs": [],
   "source": [
    "# creating the date object of today's date \n",
    "todays_date = date.today()\n",
    "\n",
    "# time\n",
    "todays_time = datetime.now().strftime('%H-%M')"
   ]
  },
  {
   "cell_type": "code",
   "execution_count": 143,
   "id": "da5cd7f5",
   "metadata": {},
   "outputs": [],
   "source": [
    "# open data frame with google news addresses for each country\n",
    "gn = pd.read_csv(\"google_news_urls.csv\")"
   ]
  },
  {
   "cell_type": "code",
   "execution_count": 144,
   "id": "dfedd779",
   "metadata": {},
   "outputs": [],
   "source": [
    "gn = gn.loc[(gn[\"Region\"] == \"USA\")].reset_index()\n",
    "url = gn[\"URL\"][0]"
   ]
  },
  {
   "cell_type": "code",
   "execution_count": 145,
   "id": "1fc1987d",
   "metadata": {},
   "outputs": [],
   "source": [
    "url_us = collect_google_news(url)"
   ]
  },
  {
   "cell_type": "code",
   "execution_count": 146,
   "id": "2e958b7b",
   "metadata": {},
   "outputs": [
    {
     "data": {
      "text/plain": [
       "10"
      ]
     },
     "execution_count": 146,
     "metadata": {},
     "output_type": "execute_result"
    }
   ],
   "source": [
    "len(url_us[\"links\"])"
   ]
  },
  {
   "cell_type": "code",
   "execution_count": 156,
   "id": "279d8032",
   "metadata": {},
   "outputs": [
    {
     "data": {
      "text/plain": [
       "'https://www.google.com/sorry/index?continue=https://news.google.com/articles/CBMirgFBVV95cUxNOXVrUThRdmduRlFpNENBeFZhWjNJTjRFd1ZFLVpQRHYtR0dHNzBIMmFCNkVjRG02SXVpMEdMVkx1dl9jSjE4WEJOVjlRUUNUQ3ViVXZNOGZFRnQ1alU3dGpBRWdaZ3dwV2VSanFnM1NzSlMxWWJtTkZKRjkwWUNLZk1xR3JjRjl3QkNoNWZFVXBxM3lGQ2xTNld1RS1vellpWVJ2dkVkQWU1LUZVdlE%3Fhl%3Den-US%26gl%3DUS%26ceid%3DUS%253Aen&hl=en-US&q=EhAmAQFNhADZkKRJJsqUhbtXGMGso7cGIjD6HfVEw7rJjZpG7k0bUhDOoNeXLk4LV8Oya0bDVT14jWCNSyxmYedlAlK_coJFKw8yAXJaAUM'"
      ]
     },
     "execution_count": 156,
     "metadata": {},
     "output_type": "execute_result"
    }
   ],
   "source": [
    "unmask(url_us[\"links\"][1])"
   ]
  },
  {
   "cell_type": "code",
   "execution_count": 54,
   "id": "22b06901",
   "metadata": {},
   "outputs": [],
   "source": [
    "# define a simple function to scrape google news\n",
    "def collect_google_news(url):\n",
    "    # make get request\n",
    "    page = requests.get(url)\n",
    "    # check status\n",
    "    if page.status_code == 200:\n",
    "        pass\n",
    "    else:\n",
    "        print(\"error\") \n",
    "    # convert to soup\n",
    "    soup = BeautifulSoup(page.content, 'html.parser') \n",
    "    \n",
    "    #     \n",
    "    # collect text\n",
    "    text = [text.text for text in soup.select(\".WwrzSb\")]\n",
    "    # collect links\n",
    "    links_ = [l[\"href\"].replace(\"./read/\", \"https://news.google.com/articles/\") for l in soup.select(\".WwrzSb\")]\n",
    "    # combine\n",
    "    container = {\"collection\" : datetime.now().strftime('%Y-%m-%d %H:%M:%S'),\n",
    "              \"headlines\" : text, \n",
    "              \"links\" : links_}\n",
    "    # return \n",
    "    return container\n"
   ]
  },
  {
   "cell_type": "code",
   "execution_count": 126,
   "id": "fbcbf021",
   "metadata": {},
   "outputs": [
    {
     "data": {
      "text/plain": [
       "[<a aria-hidden=\"true\" class=\"WwrzSb\" href=\"./read/CBMilgFBVV95cUxOZTlfTTQ5ZWx3YVNZZVVmMEFvZ1hsaUJ3NkVLcFo5WWNjS1FldHUtUDhrN1BQZEVON3doc0xaMzg1ZHYwemtBSzZ2VWdHNXFmaEE2SlZkakZJWVN6aEloN0d1Y19wN1B1U0pULU1WU1dmRkw5eTQ5dVRmSEVwVjJsUmxMMFJCNXQzcVkwblpVTl9JQlVTQUE?hl=en-US&amp;gl=US&amp;ceid=US%3Aen\" jslog=\"95014; 5:W251bGwsbnVsbCxudWxsLG51bGwsbnVsbCxudWxsLG51bGwsbnVsbCwiaHR0cHM6Ly9hcG5ld3MuY29tL2FydGljbGUvdHJ1bXAtZmJpLWFzc2Fzc2luYXRpb24tYXR0ZW1wdC1mZWU4MWQ4YmNmNzM3YmZjZGUyZWU4ZTVjZWE4ODQ2NSJd; track:click,vis\" jsname=\"hXwDdf\" tabindex=\"-1\" target=\"_blank\"></a>,\n",
       " <a aria-hidden=\"true\" class=\"WwrzSb\" href=\"./read/CBMilgFBVV95cUxObWd1UlFtV0VYSEZVQS1JbFpSeDFhcktyVmNwX2NLT2JBZ01pTkR2ejNRSlJpYm53aS12TEZLWGxzSmljWGp1QjQ3OE82XzhRWmVFSzVGVGlFbXVYc0xzOTJZTEViT3dtUVFURGFoRW83ekQ0VERTQ1FSbHRUaGFKOGdyUDZoVi13YXM1WTFHNGVsUUQ1Z2fSAZsBQVVfeXFMT0dRY3FsVnZBLUJkM0lNWVk0SmdSbl9tcmRzaF9kZXlpZFlPS252THN4Q3hlNndRYnZYRUxSOGtJWWlKamFrZ1NhTFBmcHZyV2d3a0t5eDRoclpIekVsMGx5MnBFMWg0T0QyWUhXTDM3TVpsRDJsV2pKeDRkV3VzQWdyU0pHMy1RZUR1Y0RvUWdOSEJRWGxBQThLTWc?hl=en-US&amp;gl=US&amp;ceid=US%3Aen\" jslog=\"95014; 5:W251bGwsbnVsbCxudWxsLG51bGwsbnVsbCxudWxsLG51bGwsbnVsbCwiaHR0cHM6Ly93d3cuZm94bmV3cy5jb20vbGl2ZS1uZXdzL3RydW1wLXNlY29uZC1hc3Nhc3NpbmF0aW9uLWF0dGVtcHQtZ29sZi1jb3Vyc2Utcnlhbi1yb3V0aCJd; track:click,vis\" jsname=\"hXwDdf\" tabindex=\"-1\" target=\"_blank\"></a>,\n",
       " <a aria-hidden=\"true\" class=\"WwrzSb\" href=\"./read/CBMiqgFBVV95cUxQdkl2RmtaZlBXa3NuWGRXdUVVUi1YcEQ4Z1duVTBfWl8yWVBIQjRoUkFYbDRzeXB3bEh3UFVEcTBMcTN6VTY5U1NwRmpxRzJmaVlYcEwwb3Y4aHptQzBCWVY3ODh5a3htVGFoY21GYkljSW9Ndl8teEtOcG1hZ3ZPXzBvcER5SnpCR00yV2VJYjU5ZlpqMnFwemhZQVVVazExd1dmV09qSWExQdIBZkFVX3lxTE5tdURUR3FLYTdtdW4tb0Y0Rm1sX2ZDQ0Y0My10azRKWERka0RWeXFUbDVvb3Y3NUtrQjlZeXgwMWJrd2MzNHJsU1pwZUZ4b01HRDJla1VfMDFycWItVkpOaURQcDdYdw?hl=en-US&amp;gl=US&amp;ceid=US%3Aen\" jslog=\"95014; 5:W251bGwsbnVsbCxudWxsLG51bGwsbnVsbCxudWxsLG51bGwsbnVsbCwiaHR0cHM6Ly93d3cubmJjbmV3cy5jb20vbmlnaHRseS1uZXdzLW5ldGNhc3QvdmlkZW8vbmlnaHRseS1uZXdzLWZ1bGwtYnJvYWRjYXN0LXNlcHRlbWJlci0xNnRoLTIxOTQ4NDIyOTY1MiJd; track:click,vis\" jsname=\"hXwDdf\" tabindex=\"-1\" target=\"_blank\"></a>,\n",
       " <a aria-hidden=\"true\" class=\"WwrzSb\" href=\"./read/CBMirgFBVV95cUxNOXVrUThRdmduRlFpNENBeFZhWjNJTjRFd1ZFLVpQRHYtR0dHNzBIMmFCNkVjRG02SXVpMEdMVkx1dl9jSjE4WEJOVjlRUUNUQ3ViVXZNOGZFRnQ1alU3dGpBRWdaZ3dwV2VSanFnM1NzSlMxWWJtTkZKRjkwWUNLZk1xR3JjRjl3QkNoNWZFVXBxM3lGQ2xTNld1RS1vellpWVJ2dkVkQWU1LUZVdlE?hl=en-US&amp;gl=US&amp;ceid=US%3Aen\" jslog=\"95014; 5:W251bGwsbnVsbCxudWxsLG51bGwsbnVsbCxudWxsLG51bGwsbnVsbCwiaHR0cHM6Ly93d3cud3NqLmNvbS91cy1uZXdzL3N1c3BlY3RlZC10cnVtcC1ndW5tYW4td2FzLW5lYXItZ29sZi1jb3Vyc2UtZm9yLTEyLWhvdXJzLWJlZm9yZS1zaG9vdGluZy04NWEyY2ViYiJd; track:click,vis\" jsname=\"hXwDdf\" tabindex=\"-1\" target=\"_blank\"></a>,\n",
       " <a aria-hidden=\"true\" class=\"WwrzSb\" href=\"./read/CBMimgFBVV95cUxQOEVsVjNrcDhjYTJZWmRTWTY5SndOOENoUWpoRjhwQmhwRnIydEt4TDlScjFKT2xMd0lPSTZQV0xFVkVndk81aW40STA1NTFtMVZaaXJqQVo3MXFBOEZjSFdJYlBZNTZodGstTm9PQnZHSExCVHRGeHM2YnFxLTZJUlFuaEJzOFZtbnBBZU1XQVhINUZxUDdpcnpn?hl=en-US&amp;gl=US&amp;ceid=US%3Aen\" jslog=\"95014; 5:W251bGwsbnVsbCxudWxsLG51bGwsbnVsbCxudWxsLG51bGwsbnVsbCwiaHR0cHM6Ly93d3cud2FzaGluZ3RvbnBvc3QuY29tL3dlYXRoZXIvMjAyNC8wOS8xNi90cm9waWNhbC1zdG9ybS1oZWxlbmUtY2Fyb2xpbmFzLW1pZGF0bGFudGljLyJd; track:click,vis\" jsname=\"hXwDdf\" tabindex=\"-1\" target=\"_blank\"></a>,\n",
       " <a aria-hidden=\"true\" class=\"WwrzSb\" href=\"./read/CBMijAFBVV95cUxNRlFQSWpOUmxBb2R5YmNtSTJHZlVFSDRXMUswV2VPeDNuOVFmVmZqby1FNjQwclY1aTBybDVTVGJISmI4aG5FYmtSTjBJMDFrWUFSYnhXSjhjNmZRcmFKeTF3bHd5UVdjQjE3TkFYVmRFLVZYb29iNURCTzYtU3JMMnBvRVhNTW9zVlBiUNIBkgFBVV95cUxOLW56dWNlNjB5S3I2T2kxTUYxakF6alEtaGVVR1U5QzYtNEo3RzB2TzVrWFRWTXlCMGlzVmFrbXp2VkhRT1hiNUdCaGY5OVBpT0Y3MVVXQ3h5eFdHczVaTEJWMlItOFg3d25IOE9TTFBUY0llb1ZtNktaQlZzTlBMcTdGTmYybzhHak04SHg2bHZhQQ?hl=en-US&amp;gl=US&amp;ceid=US%3Aen\" jslog=\"95014; 5:W251bGwsbnVsbCxudWxsLG51bGwsbnVsbCxudWxsLG51bGwsbnVsbCwiaHR0cHM6Ly93d3cuZm94d2VhdGhlci5jb20vd2VhdGhlci1uZXdzL3RyYWNraW5nLXRyb3BpY2FsLWN5Y2xvbmUtZWlnaHQtaGVsZW5lLXN0b3JtIl0=; track:click,vis\" jsname=\"hXwDdf\" tabindex=\"-1\" target=\"_blank\"></a>,\n",
       " <a aria-hidden=\"true\" class=\"WwrzSb\" href=\"./read/CBMingFBVV95cUxNMU1NRjlXdkhBTVh2bXM5cWE1dGhrc3duUzB1UWVHUUxDZHBYY2ZpUE9sbWtBTEdpN0RDd1RwbFNiQVI3VFFqUGdwUl9vWXJCcVBLaFhYRTQ1cmROcVRteTVtaV8walg3LTBLdE5ucElnb3h5eG1EV3hVTnAzMDRyMXhxWVhnaGZaR1h5ZXh6NG84enBhS1FoN192MWlYd9IBsgFBVV95cUxNNm9hekZpendQUlZyVFBaZVJGMGlZT2x2bV9NRnMtYVk5Y2swODAyM014Y1BLTEprTG9QS1NGUVg3TEVxUHRxWTIzb3doalpxRXcycEhOcldvRk1haF93bWJWS0lyZHgyVnJ3c2I2S043M0I2cVlrZlkxSHU0MkRrVUUtcjFucUxreC1WcXA5R0ZqSGE1c2hWN3c0d0NtbjZRckNTdjF4Q3FDWEp3QjR3emdn?hl=en-US&amp;gl=US&amp;ceid=US%3Aen\" jslog=\"95014; 5:W251bGwsbnVsbCxudWxsLG51bGwsbnVsbCxudWxsLG51bGwsbnVsbCwiaHR0cHM6Ly93d3cud2VjdC5jb20vMjAyNC8wOS8xNy9odW5kcmVkcy1zdHJhbmRlZC1ob3Vycy1hZnRlci11cy0xNy1jbG9zZXMtZHVlLWhpc3RvcmljLXJhaW5mYWxsLyJd; track:click,vis\" jsname=\"hXwDdf\" tabindex=\"-1\" target=\"_blank\"></a>,\n",
       " <a aria-hidden=\"true\" class=\"WwrzSb\" href=\"./read/CBMiogFBVV95cUxOeXI4NjdyYVhxRkVrTWdlMDBYdmdPSGh3RWJKcl9mRmMzRy1kMWoyMXY4eWt4bHdjS1hLN20tSTQtem1JQWRoc01kVzNmcG1WUkRNYmdUbGRhd0FZOGdxWlgyNXJ5bmRhdHhBeHlUcGQ4Mzk2a2RTdUxtYkVaa1VucHlsUnJ3X1pnME5EUjNyX3o5MS1iX1E0RTNSRk1wcXViOEHSAZgBQVVfeXFMTjdJYWxoWE1yZkV4RlFrTUxyVHZGU3ZvTXltTnVOS2wxa1dpUHBObDN0UHcyQWg5dE9JcmdGWXFEOWx4VW9wTG5FUUlhcTY4eGNaUVktLU92NHpCMmgxeTJma3lGbmQyRjdLZHdWelVsdjE0ZEt5TWhnTDV3Sm13WWZ2UEJveGVCYTQ5WjluT2pvRDZxSVFwQjY?hl=en-US&amp;gl=US&amp;ceid=US%3Aen\" jslog=\"95014; 5:W251bGwsbnVsbCxudWxsLG51bGwsbnVsbCxudWxsLG51bGwsbnVsbCwiaHR0cHM6Ly93d3cuY25uLmNvbS8yMDI0LzA5LzE2L3dlYXRoZXIvdHJvcGljYWwtc3Rvcm0taGVsZW5lLXNvdXRoLW5vcnRoLWNhcm9saW5hLWNsaW1hdGUvaW5kZXguaHRtbCJd; track:click,vis\" jsname=\"hXwDdf\" tabindex=\"-1\" target=\"_blank\"></a>,\n",
       " <a aria-hidden=\"true\" class=\"WwrzSb\" href=\"./read/CBMipgFBVV95cUxOX21yQ2ZiUXVvOFlCV20wRzVna1lrRENQVGstUXU1VEl2LTZ4RURweWxHODJQdjB3cVU3a0lqRWpzNElJYng0VUJkelI1NFVGR3FmMkNZWjJ6V0pEbUtrS0U2dzBEMXYtTlZTdGIxSzNPVDU3b1hpWWpVSk9oN3V0NDI3SWxRbkRFU1JuMEllVVlDOVhLYkxVSndrUWFPRUFmWDJiRnp30gGcAUFVX3lxTFBDVEpiYlIxYkZQSlJEdDctRHhmYW1YLW5xdktOSTFJM2hqT0tuYmpnNDhGYmhVRmF2TjItQzJ1RWhTc3YzQkRVR2VKRGF1QVFKQ0J3a3dzMzRqVkNfczBTT25CTG1Hak5oUDR2YzNQamFmeU9VWTFkdldiaUN5N29VX0tKQnpONEE1eVdZS3ljd09aQ0hCd3dvY1NuaA?hl=en-US&amp;gl=US&amp;ceid=US%3Aen\" jslog=\"95014; 5:W251bGwsbnVsbCxudWxsLG51bGwsbnVsbCxudWxsLG51bGwsbnVsbCwiaHR0cHM6Ly93d3cuY25uLmNvbS8yMDI0LzA5LzE2L2hlYWx0aC9hbnRpYmlvdGljLXJlc2lzdGFudC1zdXBlcmJ1Zy1pbmZlY3Rpb25zLTIwNTAtd2VsbG5lc3MvaW5kZXguaHRtbCJd; track:click,vis\" jsname=\"hXwDdf\" tabindex=\"-1\" target=\"_blank\"></a>,\n",
       " <a aria-hidden=\"true\" class=\"WwrzSb\" href=\"./read/CBMigAFBVV95cUxORnV3WGVfLW5FTmRPeXdfTG5nbFlCWXh1OHJXU3RKNWtjcGl1TDNsbUFfZjFRYXpKSG1BdzdtZURCUEV1Sko3UzR2WDdicGdBU0FZNjAwTWI2QjhuenFHOEhSbHZfSTVKWldPajAzdVIzeFVXR0tXVUQ1Y0JuX1dILQ?hl=en-US&amp;gl=US&amp;ceid=US%3Aen\" jslog=\"95014; 5:W251bGwsbnVsbCxudWxsLG51bGwsbnVsbCxudWxsLG51bGwsbnVsbCwiaHR0cHM6Ly93d3cubnl0aW1lcy5jb20vMjAyNC8wOS8xNi93b3JsZC9hc2lhL3R5cGhvb24tYmViaW5jYS1zaGFuZ2hhaS5odG1sIl0=; track:click,vis\" jsname=\"hXwDdf\" tabindex=\"-1\" target=\"_blank\"></a>]"
      ]
     },
     "execution_count": 126,
     "metadata": {},
     "output_type": "execute_result"
    }
   ],
   "source": [
    "soup.select(\".WwrzSb\")"
   ]
  },
  {
   "cell_type": "code",
   "execution_count": 42,
   "id": "f8e1c076",
   "metadata": {},
   "outputs": [],
   "source": [
    "# Find all <a> tags which contain the links\n",
    "link_elements = soup.find_all('a')\n",
    "\n",
    "# Extract the href attributes (i.e., the URLs)\n",
    "links = [link.get('href') for link in link_elements if link.get('href')]\n",
    "\n",
    "# Print all the extracted links\n",
    "for link in links:\n",
    "    links_ = [l.replace(\"./read/\", \"https://news.google.com/articles/\") for l in links]\n"
   ]
  },
  {
   "cell_type": "code",
   "execution_count": 44,
   "id": "df0c346b",
   "metadata": {},
   "outputs": [
    {
     "data": {
      "text/plain": [
       "['', '', '', '', '', '', '', '', '', '']"
      ]
     },
     "execution_count": 44,
     "metadata": {},
     "output_type": "execute_result"
    }
   ],
   "source": [
    "text_ = [text.text for text in soup.select(\".WwrzSb\")]\n",
    "text"
   ]
  },
  {
   "cell_type": "code",
   "execution_count": 55,
   "id": "cc5419db",
   "metadata": {},
   "outputs": [],
   "source": [
    "output = collect_google_news(gn.URL[0])\n"
   ]
  },
  {
   "cell_type": "code",
   "execution_count": 61,
   "id": "de716263",
   "metadata": {},
   "outputs": [
    {
     "data": {
      "text/plain": [
       "'https://news.google.com/articles/CBMilgFBVV95cUxOZTlfTTQ5ZWx3YVNZZVVmMEFvZ1hsaUJ3NkVLcFo5WWNjS1FldHUtUDhrN1BQZEVON3doc0xaMzg1ZHYwemtBSzZ2VWdHNXFmaEE2SlZkakZJWVN6aEloN0d1Y19wN1B1U0pULU1WU1dmRkw5eTQ5dVRmSEVwVjJsUmxMMFJCNXQzcVkwblpVTl9JQlVTQUE?hl=en-US&gl=US&ceid=US%3Aen'"
      ]
     },
     "execution_count": 61,
     "metadata": {},
     "output_type": "execute_result"
    }
   ],
   "source": [
    "requests.get(output[\"links\"][0]).url"
   ]
  },
  {
   "cell_type": "code",
   "execution_count": 16,
   "id": "5e7ec848",
   "metadata": {},
   "outputs": [
    {
     "name": "stdout",
     "output_type": "stream",
     "text": [
      "Directory '../data/headlines/India' already exists.\n",
      "dumping India_2024-04-26_23-05.json\n",
      "Directory '../data/headlines/South Africa' was created.\n",
      "dumping South Africa_2024-04-26_23-05.json\n"
     ]
    }
   ],
   "source": [
    "# iterate over the list of countries\n",
    "for index, row in gn.iterrows():\n",
    "    # define country\n",
    "    country = row[\"Region\"]\n",
    "\n",
    "    # file name\n",
    "    filename = country + \"_\" + str(todays_date) + \"_\" + todays_time + \".json\"\n",
    "    \n",
    "    # define url\n",
    "    url = row[\"URL\"]\n",
    "    \n",
    "    # scrape\n",
    "    output = collect_google_news(url)\n",
    "    \n",
    "    # add country\n",
    "    output[\"country\"] = country    \n",
    "    \n",
    "    # Run a loop over headlines to create placebo fakes\n",
    "    placebo = list()\n",
    "    for headline in output[\"headlines\"]:\n",
    "        try: \n",
    "            question = \"I will provide you with a news headline. \\\n",
    "            I want to change the veracity of this headline to be false information. \\\n",
    "            You should not add more information, and do not indicate it is a false headline. \\\n",
    "            I need you to only change the veracity of the headline. \\\n",
    "            Here is the headline:\"\n",
    "            text = headline\n",
    "            full_question = question + str(text)\n",
    "            placebo.append(gen_placebo_gpt(full_question, gpt_key))\n",
    "        except:\n",
    "            placebo.append(np.nan)\n",
    "        \n",
    "    # add to the output\n",
    "    output[\"placebo_headlines\"] = placebo    \n",
    "    time.sleep(random.randint(0, 5))  \n",
    "    \n",
    "    # check the country folder exists\n",
    "    if not os.path.exists(f\"../data/headlines/{country}\"):\n",
    "    # The directory does not exist, create it\n",
    "        os.makedirs(f\"../data/headlines/{country}\")\n",
    "        print(f\"Directory '../data/headlines/{country}' was created.\")\n",
    "    else:\n",
    "        print(f\"Directory '../data/headlines/{country}' already exists.\")\n",
    "\n",
    "    \n",
    "    # Convert the dictionary to JSON and save it to the file\n",
    "    with open(f'../data/headlines/{country}/{filename}', \"w\") as json_file:\n",
    "        json.dump(output, json_file)\n",
    "\n",
    "    # print\n",
    "    print(\"dumping \" + filename)\n"
   ]
  },
  {
   "cell_type": "code",
   "execution_count": 18,
   "id": "71dd883f",
   "metadata": {},
   "outputs": [
    {
     "data": {
      "text/html": [
       "<div>\n",
       "<style scoped>\n",
       "    .dataframe tbody tr th:only-of-type {\n",
       "        vertical-align: middle;\n",
       "    }\n",
       "\n",
       "    .dataframe tbody tr th {\n",
       "        vertical-align: top;\n",
       "    }\n",
       "\n",
       "    .dataframe thead th {\n",
       "        text-align: right;\n",
       "    }\n",
       "</style>\n",
       "<table border=\"1\" class=\"dataframe\">\n",
       "  <thead>\n",
       "    <tr style=\"text-align: right;\">\n",
       "      <th></th>\n",
       "      <th>collection</th>\n",
       "      <th>headlines</th>\n",
       "      <th>links</th>\n",
       "      <th>country</th>\n",
       "      <th>placebo_headlines</th>\n",
       "    </tr>\n",
       "  </thead>\n",
       "  <tbody>\n",
       "    <tr>\n",
       "      <th>0</th>\n",
       "      <td>2024-04-08 12:15:42</td>\n",
       "      <td>Biden to announce new plans to provide student...</td>\n",
       "      <td>https://news.google.com/articles/CBMidWh0dHBzO...</td>\n",
       "      <td>USA</td>\n",
       "      <td>Biden to cancel plans to provide student debt ...</td>\n",
       "    </tr>\n",
       "    <tr>\n",
       "      <th>1</th>\n",
       "      <td>2024-04-08 12:15:42</td>\n",
       "      <td>Biden races to enact new student loan forgiven...</td>\n",
       "      <td>https://news.google.com/articles/CBMiW2h0dHBzO...</td>\n",
       "      <td>USA</td>\n",
       "      <td>Biden abandons plans for new student loan forg...</td>\n",
       "    </tr>\n",
       "    <tr>\n",
       "      <th>2</th>\n",
       "      <td>2024-04-08 12:15:42</td>\n",
       "      <td>25M student-loan borrowers could get up to $20...</td>\n",
       "      <td>https://news.google.com/articles/CBMidWh0dHBzO...</td>\n",
       "      <td>USA</td>\n",
       "      <td>25M student-loan borrowers could get up to $20...</td>\n",
       "    </tr>\n",
       "    <tr>\n",
       "      <th>3</th>\n",
       "      <td>2024-04-08 12:15:42</td>\n",
       "      <td>Biden's Student-Loan Plan Seeks to Slash Debt ...</td>\n",
       "      <td>https://news.google.com/articles/CBMicmh0dHBzO...</td>\n",
       "      <td>USA</td>\n",
       "      <td>Trump's Student-Loan Plan Seeks to Slash Debt ...</td>\n",
       "    </tr>\n",
       "    <tr>\n",
       "      <th>4</th>\n",
       "      <td>2024-04-08 12:15:42</td>\n",
       "      <td>Vatican says sex change, gender theory are 'gr...</td>\n",
       "      <td>https://news.google.com/articles/CBMia2h0dHBzO...</td>\n",
       "      <td>USA</td>\n",
       "      <td>Vatican says sex change, gender theory are 'be...</td>\n",
       "    </tr>\n",
       "    <tr>\n",
       "      <th>5</th>\n",
       "      <td>2024-04-08 12:15:42</td>\n",
       "      <td>Vatican says gender theory, surrogacy violate ...</td>\n",
       "      <td>https://news.google.com/articles/CBMiZ2h0dHBzO...</td>\n",
       "      <td>USA</td>\n",
       "      <td>Vatican says gender theory, surrogacy promote ...</td>\n",
       "    </tr>\n",
       "    <tr>\n",
       "      <th>6</th>\n",
       "      <td>2024-04-08 12:15:42</td>\n",
       "      <td>Vatican stands firm on social issues like sex ...</td>\n",
       "      <td>https://news.google.com/articles/CBMiLmh0dHBzO...</td>\n",
       "      <td>USA</td>\n",
       "      <td>Vatican supports social issues like sex change...</td>\n",
       "    </tr>\n",
       "    <tr>\n",
       "      <th>7</th>\n",
       "      <td>2024-04-08 12:15:42</td>\n",
       "      <td>Gender-affirming surgery threatens ‘unique dig...</td>\n",
       "      <td>https://news.google.com/articles/CBMif2h0dHBzO...</td>\n",
       "      <td>USA</td>\n",
       "      <td>Gender-affirming surgery upholds ‘unique digni...</td>\n",
       "    </tr>\n",
       "  </tbody>\n",
       "</table>\n",
       "</div>"
      ],
      "text/plain": [
       "            collection                                          headlines  \\\n",
       "0  2024-04-08 12:15:42  Biden to announce new plans to provide student...   \n",
       "1  2024-04-08 12:15:42  Biden races to enact new student loan forgiven...   \n",
       "2  2024-04-08 12:15:42  25M student-loan borrowers could get up to $20...   \n",
       "3  2024-04-08 12:15:42  Biden's Student-Loan Plan Seeks to Slash Debt ...   \n",
       "4  2024-04-08 12:15:42  Vatican says sex change, gender theory are 'gr...   \n",
       "5  2024-04-08 12:15:42  Vatican says gender theory, surrogacy violate ...   \n",
       "6  2024-04-08 12:15:42  Vatican stands firm on social issues like sex ...   \n",
       "7  2024-04-08 12:15:42  Gender-affirming surgery threatens ‘unique dig...   \n",
       "\n",
       "                                               links country  \\\n",
       "0  https://news.google.com/articles/CBMidWh0dHBzO...     USA   \n",
       "1  https://news.google.com/articles/CBMiW2h0dHBzO...     USA   \n",
       "2  https://news.google.com/articles/CBMidWh0dHBzO...     USA   \n",
       "3  https://news.google.com/articles/CBMicmh0dHBzO...     USA   \n",
       "4  https://news.google.com/articles/CBMia2h0dHBzO...     USA   \n",
       "5  https://news.google.com/articles/CBMiZ2h0dHBzO...     USA   \n",
       "6  https://news.google.com/articles/CBMiLmh0dHBzO...     USA   \n",
       "7  https://news.google.com/articles/CBMif2h0dHBzO...     USA   \n",
       "\n",
       "                                   placebo_headlines  \n",
       "0  Biden to cancel plans to provide student debt ...  \n",
       "1  Biden abandons plans for new student loan forg...  \n",
       "2  25M student-loan borrowers could get up to $20...  \n",
       "3  Trump's Student-Loan Plan Seeks to Slash Debt ...  \n",
       "4  Vatican says sex change, gender theory are 'be...  \n",
       "5  Vatican says gender theory, surrogacy promote ...  \n",
       "6  Vatican supports social issues like sex change...  \n",
       "7  Gender-affirming surgery upholds ‘unique digni...  "
      ]
     },
     "execution_count": 18,
     "metadata": {},
     "output_type": "execute_result"
    }
   ],
   "source": [
    "#pd.read_json(\"../data/USA/USA_2024-04-08_12-14.json\")"
   ]
  }
 ],
 "metadata": {
  "kernelspec": {
   "display_name": "Python 3 (ipykernel)",
   "language": "python",
   "name": "python3"
  },
  "language_info": {
   "codemirror_mode": {
    "name": "ipython",
    "version": 3
   },
   "file_extension": ".py",
   "mimetype": "text/x-python",
   "name": "python",
   "nbconvert_exporter": "python",
   "pygments_lexer": "ipython3",
   "version": "3.11.4"
  }
 },
 "nbformat": 4,
 "nbformat_minor": 5
}
